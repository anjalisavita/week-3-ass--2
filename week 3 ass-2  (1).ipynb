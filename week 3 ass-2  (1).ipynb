{
 "cells": [
  {
   "cell_type": "markdown",
   "id": "72c1805d-1004-4294-802b-f299d4f27634",
   "metadata": {},
   "source": [
    "# Q1. Create a python program to sort the given list of tuples based on integer value using a\n",
    "# lambda function.\n",
    "[('Sachin Tendulkar', 34357), ('Ricky Ponting', 27483), ('Jack Kallis', 25534), ('Virat Kohli', 24936)]"
   ]
  },
  {
   "cell_type": "markdown",
   "id": "a9bbbc0e-602a-4703-aefe-40db0ffc846a",
   "metadata": {},
   "source": [
    "# answer 1 :"
   ]
  },
  {
   "cell_type": "code",
   "execution_count": 5,
   "id": "cdf98eb3-e436-4a9b-a0d3-2f2937774af4",
   "metadata": {},
   "outputs": [
    {
     "name": "stdout",
     "output_type": "stream",
     "text": [
      "('Virat Kohli', 24936)\n",
      "('Jack Kallis', 25534)\n",
      "('Ricky Ponting', 27483)\n",
      "('Sachin Tendulkar', 34357)\n"
     ]
    }
   ],
   "source": [
    "data = [('Sachin Tendulkar', 34357), ('Ricky Ponting', 27483), ('Jack Kallis', 25534), ('Virat Kohli', 24936)]\n",
    "\n",
    "\n",
    "sorted_data = sorted(data, key=lambda x: x[1])\n",
    "\n",
    "\n",
    "for item in sorted_data:\n",
    "    print(item)\n"
   ]
  },
  {
   "cell_type": "markdown",
   "id": "519649aa-4f4b-47ce-8481-3cd1b5c8392a",
   "metadata": {},
   "source": [
    "# Q2. Write a Python Program to find the squares of all the numbers in the given list of integers using\n",
    "# lambda and map functions.\n",
    "[1, 2, 3, 4, 5, 6, 7, 8, 9, 10]"
   ]
  },
  {
   "cell_type": "markdown",
   "id": "8e33b28b-74f5-492e-a7db-06bcae79e208",
   "metadata": {},
   "source": [
    "# answer 2:"
   ]
  },
  {
   "cell_type": "markdown",
   "id": "3350f4bf-2f27-4c66-bacb-b519796792c8",
   "metadata": {},
   "source": [
    "# You can use the map function along with a lambda function to find the squares of all the numbers in the given list of integers. Here's a Python program to do that:"
   ]
  },
  {
   "cell_type": "code",
   "execution_count": 6,
   "id": "44c45d3d-24b9-4e29-9ae4-f836d07c59ae",
   "metadata": {},
   "outputs": [
    {
     "name": "stdout",
     "output_type": "stream",
     "text": [
      "[1, 4, 9, 16, 25, 36, 49, 64, 81, 100]\n"
     ]
    }
   ],
   "source": [
    "numbers = [1, 2, 3, 4, 5, 6, 7, 8, 9, 10]\n",
    "\n",
    "squares = list(map(lambda x: x**2, numbers))\n",
    "\n",
    "print(squares)\n"
   ]
  },
  {
   "cell_type": "markdown",
   "id": "98d179da-80b2-4f01-b9ed-1fe62868a560",
   "metadata": {},
   "source": [
    "# Q3. Write a python program to convert the given list of integers into a tuple of strings. Use map and\n",
    "# lambda functions\n",
    "# Given String: [1, 2, 3, 4, 5, 6, 7, 8, 9, 10]\n",
    "# Expected output: ('1', '2', '3', '4', '5', '6', '7', '8', '9', '10')"
   ]
  },
  {
   "cell_type": "markdown",
   "id": "9a20d615-3ecb-4dfa-894a-4d3fc466db99",
   "metadata": {},
   "source": [
    "# answer 3 : "
   ]
  },
  {
   "cell_type": "markdown",
   "id": "1d15068f-a3fd-4b2e-baee-b9f179346f2d",
   "metadata": {},
   "source": [
    "# You can use the map function with a lambda function to convert the given list of integers into a tuple of strings. Here's a Python program to achieve that:"
   ]
  },
  {
   "cell_type": "code",
   "execution_count": 7,
   "id": "e35d340e-a8da-44d6-bcd6-f8fef8783b06",
   "metadata": {},
   "outputs": [
    {
     "name": "stdout",
     "output_type": "stream",
     "text": [
      "('1', '2', '3', '4', '5', '6', '7', '8', '9', '10')\n"
     ]
    }
   ],
   "source": [
    "\n",
    "numbers = [1, 2, 3, 4, 5, 6, 7, 8, 9, 10]\n",
    "\n",
    "string_tuple = tuple(map(lambda x: str(x), numbers))\n",
    "\n",
    "print(string_tuple)\n"
   ]
  },
  {
   "cell_type": "markdown",
   "id": "2fefe0d0-e97d-4d46-a05d-fa133122a297",
   "metadata": {},
   "source": [
    "# Q4. Write a python program using reduce function to compute the product of a list containing numbers\n",
    "# from 1 to 25."
   ]
  },
  {
   "cell_type": "markdown",
   "id": "2eb9015f-7b5d-450a-b99f-9caad743079a",
   "metadata": {},
   "source": [
    "# answer 4  :"
   ]
  },
  {
   "cell_type": "markdown",
   "id": "3f81f163-7811-4c44-9b37-81dc1a001701",
   "metadata": {},
   "source": [
    " # we can use the reduce function from the functools module to compute the product of a list containing numbers from 1 to 25. Here's a Python program to do that:"
   ]
  },
  {
   "cell_type": "code",
   "execution_count": 8,
   "id": "3ddd245d-c3f4-45bd-a94c-a1a22e31fd3c",
   "metadata": {},
   "outputs": [
    {
     "name": "stdout",
     "output_type": "stream",
     "text": [
      "The product of the numbers from 1 to 25 is: 15511210043330985984000000\n"
     ]
    }
   ],
   "source": [
    "from functools import reduce\n",
    "\n",
    "\n",
    "numbers = list(range(1, 26))\n",
    "\n",
    "\n",
    "def multiply(x, y):\n",
    "    return x * y\n",
    "\n",
    "\n",
    "product = reduce(multiply, numbers)\n",
    "\n",
    "\n",
    "print(\"The product of the numbers from 1 to 25 is:\", product)\n"
   ]
  },
  {
   "cell_type": "markdown",
   "id": "0be9761e-974a-42c7-b375-58f2f979eec0",
   "metadata": {},
   "source": [
    "# Q5. Write a python program to filter the numbers in a given list that are divisible by 2 and 3 using the\n",
    "# filter function.\n",
    "# [2, 3, 6, 9, 27, 60, 90, 120, 55, 46]"
   ]
  },
  {
   "cell_type": "markdown",
   "id": "87dbeb27-8b8f-4b1d-80c0-99c03f956c8e",
   "metadata": {},
   "source": [
    "# answer 5 :"
   ]
  },
  {
   "cell_type": "code",
   "execution_count": 9,
   "id": "0f9666b0-edee-43e7-8671-1b708f6c93d7",
   "metadata": {},
   "outputs": [
    {
     "name": "stdout",
     "output_type": "stream",
     "text": [
      "Numbers divisible by 2 and 3: [6, 60, 90, 120]\n"
     ]
    }
   ],
   "source": [
    "\n",
    "numbers = [2, 3, 6, 9, 27, 60, 90, 120, 55, 46]\n",
    "\n",
    "\n",
    "def is_divisible_by_2_and_3(number):\n",
    "    return number % 2 == 0 and number % 3 == 0\n",
    "\n",
    "\n",
    "filtered_numbers = list(filter(is_divisible_by_2_and_3, numbers))\n",
    "\n",
    "\n",
    "print(\"Numbers divisible by 2 and 3:\", filtered_numbers)\n"
   ]
  },
  {
   "cell_type": "markdown",
   "id": "de60706e-8e6b-446a-beb0-fa904db635da",
   "metadata": {},
   "source": [
    "# Q6. Write a python program to find palindromes in the given list of strings using lambda and filter\n",
    "# function.\n",
    "# ['python', 'php', 'aba', 'radar', 'level']"
   ]
  },
  {
   "cell_type": "markdown",
   "id": "0dda379e-92b0-4949-9fc5-e71cbe3451db",
   "metadata": {},
   "source": [
    "# answer 6 :"
   ]
  },
  {
   "cell_type": "code",
   "execution_count": 10,
   "id": "5c1a4a80-3f30-4ccc-94c6-7363e20d6b45",
   "metadata": {},
   "outputs": [
    {
     "name": "stdout",
     "output_type": "stream",
     "text": [
      "Palindromes in the list: ['php', 'aba', 'radar', 'level']\n"
     ]
    }
   ],
   "source": [
    "\n",
    "strings = ['python', 'php', 'aba', 'radar', 'level']\n",
    "\n",
    "\n",
    "is_palindrome = lambda s: s == s[::-1]\n",
    "\n",
    "\n",
    "palindromes = list(filter(is_palindrome, strings))\n",
    "\n",
    "\n",
    "print(\"Palindromes in the list:\", palindromes)\n"
   ]
  },
  {
   "cell_type": "markdown",
   "id": "13da23d1-d5d7-42c5-a19e-d041230d7a8f",
   "metadata": {},
   "source": [
    "# In this program, we first define the list of strings. Then, we define a lambda function is_palindrome that checks if a string is a palindrome by comparing it to its reverse (s[::-1]). We use the filter function to filter the strings in the list based on the condition defined in the lambda function. Finally, we convert the filtered result into a list and print it."
   ]
  },
  {
   "cell_type": "code",
   "execution_count": null,
   "id": "eb125392-101d-46aa-8e09-d3c34687bc3e",
   "metadata": {},
   "outputs": [],
   "source": []
  }
 ],
 "metadata": {
  "kernelspec": {
   "display_name": "Python 3 (ipykernel)",
   "language": "python",
   "name": "python3"
  },
  "language_info": {
   "codemirror_mode": {
    "name": "ipython",
    "version": 3
   },
   "file_extension": ".py",
   "mimetype": "text/x-python",
   "name": "python",
   "nbconvert_exporter": "python",
   "pygments_lexer": "ipython3",
   "version": "3.10.8"
  }
 },
 "nbformat": 4,
 "nbformat_minor": 5
}
